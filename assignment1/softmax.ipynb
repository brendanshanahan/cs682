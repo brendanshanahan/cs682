{
 "cells": [
  {
   "cell_type": "markdown",
   "metadata": {},
   "source": [
    "# Softmax exercise\n",
    "\n",
    "*Complete and hand in this completed worksheet (including its outputs and any supporting code outside of the worksheet) with your assignment submission. For more details see the [assignments page](https://compsci682-fa18.github.io/assignments2018/assignment1/) on the course website.*\n",
    "\n",
    "This exercise is analogous to the SVM exercise. You will:\n",
    "\n",
    "- implement a fully-vectorized **loss function** for the Softmax classifier\n",
    "- implement the fully-vectorized expression for its **analytic gradient**\n",
    "- **check your implementation** with numerical gradient\n",
    "- use a validation set to **tune the learning rate and regularization** strength\n",
    "- **optimize** the loss function with **SGD**\n",
    "- **visualize** the final learned weights\n"
   ]
  },
  {
   "cell_type": "code",
   "execution_count": 1,
   "metadata": {
    "collapsed": true
   },
   "outputs": [],
   "source": [
    "import random\n",
    "import numpy as np\n",
    "from cs682.data_utils import load_CIFAR10\n",
    "import matplotlib.pyplot as plt\n",
    "\n",
    "from __future__ import print_function\n",
    "\n",
    "%matplotlib inline\n",
    "plt.rcParams['figure.figsize'] = (10.0, 8.0) # set default size of plots\n",
    "plt.rcParams['image.interpolation'] = 'nearest'\n",
    "plt.rcParams['image.cmap'] = 'gray'\n",
    "\n",
    "# for auto-reloading extenrnal modules\n",
    "# see http://stackoverflow.com/questions/1907993/autoreload-of-modules-in-ipython\n",
    "%load_ext autoreload\n",
    "%autoreload 2"
   ]
  },
  {
   "cell_type": "code",
   "execution_count": 2,
   "metadata": {
    "collapsed": false
   },
   "outputs": [
    {
     "name": "stdout",
     "output_type": "stream",
     "text": [
      "Train data shape:  (49000, 3073)\n",
      "Train labels shape:  (49000,)\n",
      "Validation data shape:  (1000, 3073)\n",
      "Validation labels shape:  (1000,)\n",
      "Test data shape:  (1000, 3073)\n",
      "Test labels shape:  (1000,)\n",
      "dev data shape:  (500, 3073)\n",
      "dev labels shape:  (500,)\n"
     ]
    }
   ],
   "source": [
    "def get_CIFAR10_data(num_training=49000, num_validation=1000, num_test=1000, num_dev=500):\n",
    "    \"\"\"\n",
    "    Load the CIFAR-10 dataset from disk and perform preprocessing to prepare\n",
    "    it for the linear classifier. These are the same steps as we used for the\n",
    "    SVM, but condensed to a single function.  \n",
    "    \"\"\"\n",
    "    # Load the raw CIFAR-10 data\n",
    "    cifar10_dir = 'cs682/datasets/cifar-10-batches-py'\n",
    "    \n",
    "    X_train, y_train, X_test, y_test = load_CIFAR10(cifar10_dir)\n",
    "    \n",
    "    # subsample the data\n",
    "    mask = list(range(num_training, num_training + num_validation))\n",
    "    X_val = X_train[mask]\n",
    "    y_val = y_train[mask]\n",
    "    mask = list(range(num_training))\n",
    "    X_train = X_train[mask]\n",
    "    y_train = y_train[mask]\n",
    "    mask = list(range(num_test))\n",
    "    X_test = X_test[mask]\n",
    "    y_test = y_test[mask]\n",
    "    mask = np.random.choice(num_training, num_dev, replace=False)\n",
    "    X_dev = X_train[mask]\n",
    "    y_dev = y_train[mask]\n",
    "    \n",
    "    # Preprocessing: reshape the image data into rows\n",
    "    X_train = np.reshape(X_train, (X_train.shape[0], -1))\n",
    "    X_val = np.reshape(X_val, (X_val.shape[0], -1))\n",
    "    X_test = np.reshape(X_test, (X_test.shape[0], -1))\n",
    "    X_dev = np.reshape(X_dev, (X_dev.shape[0], -1))\n",
    "    \n",
    "    # Normalize the data: subtract the mean image\n",
    "    mean_image = np.mean(X_train, axis = 0)\n",
    "    X_train -= mean_image\n",
    "    X_val -= mean_image\n",
    "    X_test -= mean_image\n",
    "    X_dev -= mean_image\n",
    "    \n",
    "    # add bias dimension and transform into columns\n",
    "    X_train = np.hstack([X_train, np.ones((X_train.shape[0], 1))])\n",
    "    X_val = np.hstack([X_val, np.ones((X_val.shape[0], 1))])\n",
    "    X_test = np.hstack([X_test, np.ones((X_test.shape[0], 1))])\n",
    "    X_dev = np.hstack([X_dev, np.ones((X_dev.shape[0], 1))])\n",
    "    \n",
    "    return X_train, y_train, X_val, y_val, X_test, y_test, X_dev, y_dev\n",
    "\n",
    "\n",
    "# Cleaning up variables to prevent loading data multiple times (which may cause memory issue)\n",
    "try:\n",
    "   del X_train, y_train\n",
    "   del X_test, y_test\n",
    "   print('Clear previously loaded data.')\n",
    "except:\n",
    "   pass\n",
    "\n",
    "# Invoke the above function to get our data.\n",
    "X_train, y_train, X_val, y_val, X_test, y_test, X_dev, y_dev = get_CIFAR10_data()\n",
    "print('Train data shape: ', X_train.shape)\n",
    "print('Train labels shape: ', y_train.shape)\n",
    "print('Validation data shape: ', X_val.shape)\n",
    "print('Validation labels shape: ', y_val.shape)\n",
    "print('Test data shape: ', X_test.shape)\n",
    "print('Test labels shape: ', y_test.shape)\n",
    "print('dev data shape: ', X_dev.shape)\n",
    "print('dev labels shape: ', y_dev.shape)"
   ]
  },
  {
   "cell_type": "markdown",
   "metadata": {},
   "source": [
    "## Softmax Classifier\n",
    "\n",
    "Your code for this section will all be written inside **cs682/classifiers/softmax.py**. \n"
   ]
  },
  {
   "cell_type": "code",
   "execution_count": 3,
   "metadata": {
    "collapsed": false
   },
   "outputs": [
    {
     "name": "stdout",
     "output_type": "stream",
     "text": [
      "loss: 2.353468\n",
      "sanity check: 2.302585\n"
     ]
    }
   ],
   "source": [
    "# First implement the naive softmax loss function with nested loops.\n",
    "# Open the file cs682/classifiers/softmax.py and implement the\n",
    "# softmax_loss_naive function.\n",
    "\n",
    "from cs682.classifiers.softmax import softmax_loss_naive\n",
    "import time\n",
    "\n",
    "# Generate a random softmax weight matrix and use it to compute the loss.\n",
    "W = np.random.randn(3073, 10) * 0.0001\n",
    "loss, grad = softmax_loss_naive(W, X_dev, y_dev, 0.0)\n",
    "\n",
    "# As a rough sanity check, our loss should be something close to -log(0.1).\n",
    "print('loss: %f' % loss)\n",
    "print('sanity check: %f' % (-np.log(0.1)))"
   ]
  },
  {
   "cell_type": "markdown",
   "metadata": {},
   "source": [
    "## Inline Question 1:\n",
    "Why do we expect our loss to be close to -log(0.1)? Explain briefly.**\n",
    "\n",
    "**Your answer:** *Noting that the softmax loss can be thought of as assigning a probability to each class, then because the weight matrix W is randomly initialized, we should expect that it would result in an image being classified as any of the 10 possible classes with equal probability 0.1. The full loss is then minus the log of the average over all images, which should also be approximately 0.1, plus the regularization, which is on the order of $(0.0001)^2 \\ll - \\log (0.1)$ as a result of the random initialization of the weights on the order of 0.0001.*\n"
   ]
  },
  {
   "cell_type": "code",
   "execution_count": 4,
   "metadata": {
    "collapsed": false
   },
   "outputs": [
    {
     "name": "stdout",
     "output_type": "stream",
     "text": [
      "numerical: -3.783523 analytic: -3.783523, relative error: 2.151180e-09\n",
      "numerical: -2.485062 analytic: -2.485062, relative error: 9.946774e-09\n",
      "numerical: -4.928226 analytic: -4.928226, relative error: 2.419355e-09\n",
      "numerical: 0.729395 analytic: 0.729395, relative error: 3.767954e-08\n",
      "numerical: -1.275667 analytic: -1.275667, relative error: 3.307935e-08\n",
      "numerical: -3.449171 analytic: -3.449171, relative error: 2.204763e-08\n",
      "numerical: 1.801794 analytic: 1.801794, relative error: 1.951253e-08\n",
      "numerical: 2.776163 analytic: 2.776163, relative error: 1.750058e-08\n",
      "numerical: 2.622774 analytic: 2.622774, relative error: 1.454267e-08\n",
      "numerical: 0.896589 analytic: 0.896589, relative error: 7.427041e-08\n",
      "numerical: 0.569886 analytic: 0.569886, relative error: 8.111644e-08\n",
      "numerical: -0.375095 analytic: -0.375095, relative error: 1.529064e-07\n",
      "numerical: 2.061371 analytic: 2.061371, relative error: 2.841968e-08\n",
      "numerical: -0.124883 analytic: -0.124883, relative error: 2.551571e-08\n",
      "numerical: -3.025586 analytic: -3.025586, relative error: 6.282732e-09\n",
      "numerical: 3.302104 analytic: 3.302104, relative error: 1.357320e-08\n",
      "numerical: -2.217739 analytic: -2.217739, relative error: 1.847363e-08\n",
      "numerical: -0.026059 analytic: -0.026059, relative error: 6.275273e-08\n",
      "numerical: 0.267677 analytic: 0.267677, relative error: 1.645450e-07\n",
      "numerical: -0.824773 analytic: -0.824773, relative error: 5.432262e-08\n"
     ]
    }
   ],
   "source": [
    "# Complete the implementation of softmax_loss_naive and implement a (naive)\n",
    "# version of the gradient that uses nested loops.\n",
    "loss, grad = softmax_loss_naive(W, X_dev, y_dev, 0.0)\n",
    "\n",
    "# As we did for the SVM, use numeric gradient checking as a debugging tool.\n",
    "# The numeric gradient should be close to the analytic gradient.\n",
    "from cs682.gradient_check import grad_check_sparse\n",
    "f = lambda w: softmax_loss_naive(w, X_dev, y_dev, 0.0)[0]\n",
    "grad_numerical = grad_check_sparse(f, W, grad, 10)\n",
    "\n",
    "# similar to SVM case, do another gradient check with regularization\n",
    "loss, grad = softmax_loss_naive(W, X_dev, y_dev, 5e1)\n",
    "f = lambda w: softmax_loss_naive(w, X_dev, y_dev, 5e1)[0]\n",
    "grad_numerical = grad_check_sparse(f, W, grad, 10)"
   ]
  },
  {
   "cell_type": "code",
   "execution_count": 5,
   "metadata": {
    "collapsed": false
   },
   "outputs": [
    {
     "name": "stdout",
     "output_type": "stream",
     "text": [
      "naive loss: 2.353468e+00 computed in 0.296276s\n",
      "vectorized loss: 2.353468e+00 computed in 0.011307s\n",
      "Loss difference: 0.000000\n",
      "Gradient difference: 0.000000\n"
     ]
    }
   ],
   "source": [
    "# Now that we have a naive implementation of the softmax loss function and its gradient,\n",
    "# implement a vectorized version in softmax_loss_vectorized.\n",
    "# The two versions should compute the same results, but the vectorized version should be\n",
    "# much faster.\n",
    "tic = time.time()\n",
    "loss_naive, grad_naive = softmax_loss_naive(W, X_dev, y_dev, 0.000005)\n",
    "toc = time.time()\n",
    "print('naive loss: %e computed in %fs' % (loss_naive, toc - tic))\n",
    "\n",
    "from cs682.classifiers.softmax import softmax_loss_vectorized\n",
    "tic = time.time()\n",
    "loss_vectorized, grad_vectorized = softmax_loss_vectorized(W, X_dev, y_dev, 0.000005)\n",
    "toc = time.time()\n",
    "print('vectorized loss: %e computed in %fs' % (loss_vectorized, toc - tic))\n",
    "\n",
    "# As we did for the SVM, we use the Frobenius norm to compare the two versions\n",
    "# of the gradient.\n",
    "grad_difference = np.linalg.norm(grad_naive - grad_vectorized, ord='fro')\n",
    "print('Loss difference: %f' % np.abs(loss_naive - loss_vectorized))\n",
    "print('Gradient difference: %f' % grad_difference)"
   ]
  },
  {
   "cell_type": "code",
   "execution_count": 9,
   "metadata": {
    "collapsed": false
   },
   "outputs": [
    {
     "name": "stdout",
     "output_type": "stream",
     "text": [
      "rate = 5.000000e-08, strength = 5.000000e+03, train acc = 0.369367, val acc = 0.375000\n",
      "rate = 5.000000e-08, strength = 1.000000e+04, train acc = 0.357388, val acc = 0.374000\n",
      "rate = 5.000000e-08, strength = 2.500000e+04, train acc = 0.329531, val acc = 0.343000\n",
      "rate = 5.000000e-08, strength = 5.000000e+04, train acc = 0.305612, val acc = 0.323000\n",
      "rate = 5.000000e-08, strength = 1.000000e+05, train acc = 0.284918, val acc = 0.295000\n",
      "rate = 1.000000e-07, strength = 5.000000e+03, train acc = 0.373143, val acc = 0.395000\n",
      "rate = 1.000000e-07, strength = 1.000000e+04, train acc = 0.356653, val acc = 0.374000\n",
      "rate = 1.000000e-07, strength = 2.500000e+04, train acc = 0.332286, val acc = 0.345000\n",
      "rate = 1.000000e-07, strength = 5.000000e+04, train acc = 0.303061, val acc = 0.314000\n",
      "rate = 1.000000e-07, strength = 1.000000e+05, train acc = 0.282633, val acc = 0.290000\n",
      "rate = 2.500000e-07, strength = 5.000000e+03, train acc = 0.374755, val acc = 0.390000\n",
      "rate = 2.500000e-07, strength = 1.000000e+04, train acc = 0.354388, val acc = 0.358000\n",
      "rate = 2.500000e-07, strength = 2.500000e+04, train acc = 0.331020, val acc = 0.345000\n",
      "rate = 2.500000e-07, strength = 5.000000e+04, train acc = 0.295265, val acc = 0.319000\n",
      "rate = 2.500000e-07, strength = 1.000000e+05, train acc = 0.290469, val acc = 0.307000\n",
      "rate = 5.000000e-07, strength = 5.000000e+03, train acc = 0.367918, val acc = 0.382000\n",
      "rate = 5.000000e-07, strength = 1.000000e+04, train acc = 0.349653, val acc = 0.372000\n",
      "rate = 5.000000e-07, strength = 2.500000e+04, train acc = 0.323122, val acc = 0.345000\n",
      "rate = 5.000000e-07, strength = 5.000000e+04, train acc = 0.300163, val acc = 0.306000\n",
      "rate = 5.000000e-07, strength = 1.000000e+05, train acc = 0.281122, val acc = 0.294000\n",
      "rate = 1.000000e-06, strength = 5.000000e+03, train acc = 0.359653, val acc = 0.370000\n",
      "rate = 1.000000e-06, strength = 1.000000e+04, train acc = 0.348122, val acc = 0.359000\n",
      "rate = 1.000000e-06, strength = 2.500000e+04, train acc = 0.322204, val acc = 0.332000\n",
      "rate = 1.000000e-06, strength = 5.000000e+04, train acc = 0.297633, val acc = 0.297000\n",
      "rate = 1.000000e-06, strength = 1.000000e+05, train acc = 0.286449, val acc = 0.300000\n",
      "rate = 2.500000e-06, strength = 5.000000e+03, train acc = 0.354204, val acc = 0.371000\n",
      "rate = 2.500000e-06, strength = 1.000000e+04, train acc = 0.334816, val acc = 0.342000\n",
      "rate = 2.500000e-06, strength = 2.500000e+04, train acc = 0.299898, val acc = 0.297000\n",
      "rate = 2.500000e-06, strength = 5.000000e+04, train acc = 0.278796, val acc = 0.299000\n",
      "rate = 2.500000e-06, strength = 1.000000e+05, train acc = 0.221469, val acc = 0.233000\n",
      "rate = 5.000000e-06, strength = 5.000000e+03, train acc = 0.303020, val acc = 0.321000\n",
      "rate = 5.000000e-06, strength = 1.000000e+04, train acc = 0.262694, val acc = 0.279000\n",
      "rate = 5.000000e-06, strength = 2.500000e+04, train acc = 0.197469, val acc = 0.217000\n",
      "rate = 5.000000e-06, strength = 5.000000e+04, train acc = 0.155776, val acc = 0.152000\n",
      "rate = 5.000000e-06, strength = 1.000000e+05, train acc = 0.091143, val acc = 0.095000\n",
      "best validation accuracy achieved during cross-validation: 0.395000\n"
     ]
    }
   ],
   "source": [
    "# Use the validation set to tune hyperparameters (regularization strength and\n",
    "# learning rate). You should experiment with different ranges for the learning\n",
    "# rates and regularization strengths; if you are careful you should be able to\n",
    "# get a classification accuracy of over 0.35 on the validation set.\n",
    "from cs682.classifiers import Softmax\n",
    "results = {}\n",
    "best_val = -1\n",
    "best_softmax = None\n",
    "learning_rates = [5e-8, 1e-7, 2.5e-7, 5e-7, 1e-6, 2.5e-6, 5e-6]\n",
    "regularization_strengths = [5e3, 1e4, 2.5e4, 5e4, 1e5]\n",
    "\n",
    "################################################################################\n",
    "# TODO:                                                                        #\n",
    "# Use the validation set to set the learning rate and regularization strength. #\n",
    "# This should be identical to the validation that you did for the SVM; save    #\n",
    "# the best trained softmax classifer in best_softmax.                          #\n",
    "################################################################################\n",
    "\n",
    "for rate in learning_rates:\n",
    "    for strength in regularization_strengths:\n",
    "        softmax_val = Softmax()\n",
    "        loss_hist = softmax_val.train(X_train, \n",
    "                                      y_train, \n",
    "                                      learning_rate=rate, \n",
    "                                      reg=strength, \n",
    "                                      num_iters=5000, \n",
    "                                      verbose=False)\n",
    "        \n",
    "        yt_pred = softmax_val.predict(X_train)\n",
    "        yt_acc = np.mean(y_train == yt_pred)\n",
    "        yv_pred = softmax_val.predict(X_val)\n",
    "        yv_acc = np.mean(y_val == yv_pred)\n",
    "        \n",
    "        print('rate = %e, strength = %e, train acc = %f, val acc = %f' % (rate, strength, yt_acc, yv_acc))\n",
    "        \n",
    "        results[(rate, strength)] = (yt_acc, yv_acc)\n",
    "        \n",
    "        if yv_acc > best_val:\n",
    "            best_val = yv_acc\n",
    "            best_softmax = softmax_val\n",
    "\n",
    "################################################################################\n",
    "#                              END OF YOUR CODE                                #\n",
    "################################################################################\n",
    "    \n",
    "# # Print out results.\n",
    "# for lr, reg in sorted(results):\n",
    "#     train_accuracy, val_accuracy = results[(lr, reg)]\n",
    "#     print('lr %e reg %e train accuracy: %f val accuracy: %f' % (\n",
    "#                 lr, reg, train_accuracy, val_accuracy))\n",
    "    \n",
    "print('best validation accuracy achieved during cross-validation: %f' % best_val)"
   ]
  },
  {
   "cell_type": "code",
   "execution_count": 11,
   "metadata": {
    "collapsed": false
   },
   "outputs": [
    {
     "name": "stdout",
     "output_type": "stream",
     "text": [
      "softmax on raw pixels final test set accuracy: 0.378000\n"
     ]
    }
   ],
   "source": [
    "# evaluate on test set\n",
    "# Evaluate the best softmax on test set\n",
    "y_test_pred = best_softmax.predict(X_test)\n",
    "test_accuracy = np.mean(y_test == y_test_pred)\n",
    "print('softmax on raw pixels final test set accuracy: %f' % (test_accuracy, ))"
   ]
  },
  {
   "cell_type": "markdown",
   "metadata": {},
   "source": [
    "**Inline Question** - *True or False*\n",
    "\n",
    "It's possible to add a new datapoint to a training set that would leave the SVM loss unchanged, but this is not the case with the Softmax classifier loss.\n",
    "\n",
    "*Your answer*: *False*\n",
    "\n",
    "*Your explanation*: For SVm loss, a new image could be added to the training set whose score with respect to its correct class is never greater than its scores with respect to all other incorrect classes by the margin specified in the loss function, therefore the SVM loss will be unchanged. However, Softmax loss does not \"filter\" scores in this way, therefore any new image in the training set will contribute to the total loss."
   ]
  },
  {
   "cell_type": "code",
   "execution_count": 12,
   "metadata": {
    "collapsed": false
   },
   "outputs": [
    {
     "data": {
      "image/png": "[encoded data removed]",
      "text/plain": [
       "<matplotlib.figure.Figure at 0x7f337f38c048>"
      ]
     },
     "metadata": {},
     "output_type": "display_data"
    }
   ],
   "source": [
    "# Visualize the learned weights for each class\n",
    "w = best_softmax.W[:-1,:] # strip out the bias\n",
    "w = w.reshape(32, 32, 3, 10)\n",
    "\n",
    "w_min, w_max = np.min(w), np.max(w)\n",
    "\n",
    "classes = ['plane', 'car', 'bird', 'cat', 'deer', 'dog', 'frog', 'horse', 'ship', 'truck']\n",
    "for i in range(10):\n",
    "    plt.subplot(2, 5, i + 1)\n",
    "    \n",
    "    # Rescale the weights to be between 0 and 255\n",
    "    wimg = 255.0 * (w[:, :, :, i].squeeze() - w_min) / (w_max - w_min)\n",
    "    plt.imshow(wimg.astype('uint8'))\n",
    "    plt.axis('off')\n",
    "    plt.title(classes[i])"
   ]
  },
  {
   "cell_type": "code",
   "execution_count": null,
   "metadata": {
    "collapsed": true
   },
   "outputs": [],
   "source": []
  }
 ],
 "metadata": {
  "kernelspec": {
   "display_name": "Python 3",
   "language": "python",
   "name": "python3"
  },
  "language_info": {
   "codemirror_mode": {
    "name": "ipython",
    "version": 3
   },
   "file_extension": ".py",
   "mimetype": "text/x-python",
   "name": "python",
   "nbconvert_exporter": "python",
   "pygments_lexer": "ipython3",
   "version": "3.5.2"
  }
 },
 "nbformat": 4,
 "nbformat_minor": 1
}
